{
 "cells": [
  {
   "cell_type": "markdown",
   "id": "87b01c9e",
   "metadata": {},
   "source": [
    "# Importação de Bibliotecas"
   ]
  },
  {
   "cell_type": "code",
   "execution_count": 1,
   "id": "587017a2",
   "metadata": {},
   "outputs": [],
   "source": [
    "#importando bibliotecas\n",
    "import pickle\n",
    "from sklearn.tree import DecisionTreeClassifier\n",
    "from sklearn.metrics import accuracy_score, confusion_matrix, classification_report\n",
    "from sklearn import tree\n",
    "import seaborn as sns\n",
    "import matplotlib.pyplot as plt\n",
    "import numpy as np"
   ]
  },
  {
   "cell_type": "markdown",
   "id": "4bbaf406",
   "metadata": {},
   "source": [
    "# Carga de Dados"
   ]
  },
  {
   "cell_type": "code",
   "execution_count": 2,
   "id": "cbcae11b",
   "metadata": {},
   "outputs": [],
   "source": [
    "#Carregando as variaveis tratadas no pré processamento\n",
    "with open('../../../01-Análise Exploratória/Pré-Processamento/Census/base/census.pkl', 'rb') as f:\n",
    "    x_train, x_test, y_train, y_test = pickle.load(f)"
   ]
  },
  {
   "cell_type": "markdown",
   "id": "8e18aa30",
   "metadata": {},
   "source": [
    "# Treina Árvore de Decisão"
   ]
  },
  {
   "cell_type": "code",
   "execution_count": 3,
   "id": "a07b6e53",
   "metadata": {},
   "outputs": [
    {
     "data": {
      "text/plain": [
       "DecisionTreeClassifier(criterion='entropy', random_state=0)"
      ]
     },
     "execution_count": 3,
     "metadata": {},
     "output_type": "execute_result"
    }
   ],
   "source": [
    "#Treinando o modelo\n",
    "tree_decision = DecisionTreeClassifier(criterion='entropy', random_state= 0)\n",
    "tree_decision.fit(x_train, y_train)"
   ]
  },
  {
   "cell_type": "code",
   "execution_count": 4,
   "id": "cfc72c4a",
   "metadata": {
    "scrolled": true
   },
   "outputs": [
    {
     "data": {
      "text/plain": [
       "array([1.15011818e-03, 4.21237943e-03, 4.70577642e-03, 0.00000000e+00,\n",
       "       9.82096148e-03, 4.21726108e-03, 8.93805783e-03, 5.94385833e-03,\n",
       "       9.66182408e-05, 5.52222732e-04, 7.08105139e-04, 1.10564850e-04,\n",
       "       3.43159153e-04, 1.33086192e-04, 4.64721135e-04, 3.86442044e-04,\n",
       "       1.50521293e-03, 2.19919157e-03, 1.74396346e-03, 6.32194974e-04,\n",
       "       2.05227056e-03, 1.63687981e-03, 0.00000000e+00, 3.78847434e-04,\n",
       "       3.57267357e-03, 1.85733406e-03, 5.50766319e-04, 1.93499150e-01,\n",
       "       8.46621858e-04, 2.77224778e-03, 1.78397039e-03, 1.14790256e-03,\n",
       "       1.88672295e-03, 5.82062871e-03, 0.00000000e+00, 1.02410533e-02,\n",
       "       9.56865533e-03, 3.57766394e-03, 2.47738784e-03, 5.75620984e-03,\n",
       "       4.58470918e-03, 0.00000000e+00, 8.36466675e-03, 3.34266127e-03,\n",
       "       7.45141050e-03, 5.19245833e-03, 5.90550646e-03, 2.66727040e-03,\n",
       "       2.23700286e-03, 4.60949473e-04, 1.61020875e-03, 1.97115020e-03,\n",
       "       3.54674211e-03, 0.00000000e+00, 2.49050061e-03, 4.21156915e-03,\n",
       "       5.49695141e-04, 4.55428423e-03, 2.51415563e-03, 0.00000000e+00,\n",
       "       5.15815585e-04, 2.53386771e-04, 0.00000000e+00, 3.35521613e-04,\n",
       "       0.00000000e+00, 0.00000000e+00, 0.00000000e+00, 3.80922696e-04,\n",
       "       3.16945355e-04, 1.10131446e-03, 1.63978219e-04, 3.23812444e-04,\n",
       "       1.44747218e-04, 0.00000000e+00, 0.00000000e+00, 1.17856622e-04,\n",
       "       0.00000000e+00, 1.04969893e-03, 6.21835687e-05, 1.17725269e-04,\n",
       "       8.52345481e-04, 2.06537642e-04, 4.07150657e-04, 1.05792496e-04,\n",
       "       8.24794358e-04, 3.26322674e-04, 0.00000000e+00, 0.00000000e+00,\n",
       "       4.87193886e-04, 3.28742192e-04, 0.00000000e+00, 0.00000000e+00,\n",
       "       0.00000000e+00, 3.29380102e-04, 3.02012084e-04, 0.00000000e+00,\n",
       "       0.00000000e+00, 4.81325460e-03, 2.37508987e-04, 5.52615854e-04,\n",
       "       1.22443656e-01, 1.89792488e-01, 8.99099921e-02, 6.84501858e-03,\n",
       "       1.13376859e-01, 3.56830441e-02, 6.83455596e-02])"
      ]
     },
     "execution_count": 4,
     "metadata": {},
     "output_type": "execute_result"
    }
   ],
   "source": [
    "#Atributos com maior relevancia \n",
    "tree_decision.feature_importances_"
   ]
  },
  {
   "cell_type": "code",
   "execution_count": 5,
   "id": "064122d5",
   "metadata": {},
   "outputs": [],
   "source": [
    "#Grafico da Arvore de Decisão\n",
    "'''\n",
    "previsores = ['idade', 'renda', 'emprestimo_mnt']\n",
    "\n",
    "figure, axes = plt.subplots(nrows=1,ncols=1, figsize=(10,10))\n",
    "tree.plot_tree(tree_decision, feature_names=previsores, class_names = ['Paga', 'Não Paga'],filled=True);\n",
    "''';"
   ]
  },
  {
   "cell_type": "code",
   "execution_count": 6,
   "id": "fd4caa7b",
   "metadata": {},
   "outputs": [],
   "source": [
    "# Previsões da x_test\n",
    "previsoes = tree_decision.predict(x_test)"
   ]
  },
  {
   "cell_type": "code",
   "execution_count": 7,
   "id": "25bbf509",
   "metadata": {},
   "outputs": [
    {
     "data": {
      "text/plain": [
       "0.8088438507600184"
      ]
     },
     "execution_count": 7,
     "metadata": {},
     "output_type": "execute_result"
    }
   ],
   "source": [
    "#Acurácia do modelo\n",
    "accuracy_score(y_test, previsoes)"
   ]
  },
  {
   "cell_type": "code",
   "execution_count": 8,
   "id": "1b9d183e",
   "metadata": {},
   "outputs": [
    {
     "name": "stdout",
     "output_type": "stream",
     "text": [
      "              precision    recall  f1-score   support\n",
      "\n",
      "       <=50K       0.87      0.87      0.87      4918\n",
      "        >50K       0.61      0.61      0.61      1595\n",
      "\n",
      "    accuracy                           0.81      6513\n",
      "   macro avg       0.74      0.74      0.74      6513\n",
      "weighted avg       0.81      0.81      0.81      6513\n",
      "\n"
     ]
    },
    {
     "data": {
      "image/png": "[encoded data removed]",
      "text/plain": [
       "<Figure size 720x504 with 2 Axes>"
      ]
     },
     "metadata": {
      "needs_background": "light"
     },
     "output_type": "display_data"
    }
   ],
   "source": [
    "#Resultado da Classificação\n",
    "print(classification_report(y_test, previsoes))\n",
    "cf_matrix = confusion_matrix(y_test, previsoes)\n",
    "\n",
    "plt.figure(figsize = (10,7))\n",
    "\n",
    "group_names = ['<=50K','Falso <=50K','Falso >50K','>50K']\n",
    "group_counts = ['{0:0.0f}'.format(value) for value in\n",
    "                cf_matrix.flatten()]\n",
    "group_percentages = ['{0:.2%}'.format(value) for value in\n",
    "                     cf_matrix.flatten()/np.sum(cf_matrix)]\n",
    "labels = [f'{v1}\\n{v2}\\n{v3}' for v1, v2, v3 in\n",
    "          zip(group_names,group_counts,group_percentages)]\n",
    "labels = np.asarray(labels).reshape(2,2)\n",
    "\n",
    "sns_plot = sns.heatmap(cf_matrix, annot=labels, fmt='', cmap='Blues')\n",
    "plt.savefig('img/confusion_matrix.png', dpi=300)"
   ]
  }
 ],
 "metadata": {
  "kernelspec": {
   "display_name": "Python 3 (ipykernel)",
   "language": "python",
   "name": "python3"
  },
  "language_info": {
   "codemirror_mode": {
    "name": "ipython",
    "version": 3
   },
   "file_extension": ".py",
   "mimetype": "text/x-python",
   "name": "python",
   "nbconvert_exporter": "python",
   "pygments_lexer": "ipython3",
   "version": "3.9.7"
  }
 },
 "nbformat": 4,
 "nbformat_minor": 5
}
