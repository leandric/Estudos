{
 "cells": [
  {
   "cell_type": "markdown",
   "metadata": {
    "id": "_MGLrkr74OyX"
   },
   "source": [
    "# **CRIAÇÃO DE ALGORITMOS DE MACHINE LEARNING** "
   ]
  },
  {
   "cell_type": "markdown",
   "metadata": {
    "id": "ryiOxnJ363Lt"
   },
   "source": [
    "**ETAPAS**:\n",
    "\n",
    "1) Coleta dos dados\n",
    "\n",
    "2) Tratamento dos dados (Limpeza, organização, exploração)\n",
    "\n",
    "3) Preparação dos dados (escalonamento, mudança nas variáveis, redução de dimensionalidade, separação em dados de treino e teste)\n",
    "\n",
    "4) Escolha e geração do modelo\n",
    "\n",
    "5) Treinamento do algoritmo\n",
    "\n",
    "6) Avaliação do modelo\n",
    "\n",
    "7) Aprimoramento do resultado\n",
    "\n",
    "8) Resultado final (Classificação, predição, agrupamento, associação...)"
   ]
  },
  {
   "cell_type": "markdown",
   "metadata": {
    "id": "N-yzX51_4iyM"
   },
   "source": [
    "## **ALGORITMOS DE CLASSIFICAÇÃO**"
   ]
  },
  {
   "cell_type": "markdown",
   "metadata": {
    "id": "gTC-wFyT8o_9"
   },
   "source": [
    "### **MÁQUINAS DE VETORES DE SUPORTE (SVM)**"
   ]
  },
  {
   "cell_type": "markdown",
   "metadata": {
    "id": "5p55FhL3b52u"
   },
   "source": [
    "https://scikit-learn.org/stable/modules/generated/sklearn.svm.SVC.html"
   ]
  },
  {
   "cell_type": "code",
   "execution_count": 1,
   "metadata": {
    "id": "oVy0EpUfpquK"
   },
   "outputs": [],
   "source": [
    "# Importação da Biblioteca\n",
    "from sklearn.svm import SVC"
   ]
  },
  {
   "cell_type": "code",
   "execution_count": 2,
   "metadata": {
    "id": "P7xKKTCabAab"
   },
   "outputs": [],
   "source": [
    "# Geração do modelo\n",
    "svm = SVC(kernel='rbf', random_state=1, C = 2) "
   ]
  },
  {
   "cell_type": "markdown",
   "metadata": {
    "id": "f6u542_aEj6B"
   },
   "source": [
    "### **NAIVE BAYES**"
   ]
  },
  {
   "cell_type": "markdown",
   "metadata": {
    "id": "2tnCKM7kcfQl"
   },
   "source": [
    "https://scikit-learn.org/stable/modules/naive_bayes.html"
   ]
  },
  {
   "cell_type": "code",
   "execution_count": 3,
   "metadata": {
    "id": "YhAnMs4TJRoa"
   },
   "outputs": [],
   "source": [
    "# Importação da Biblioteca\n",
    "from sklearn.naive_bayes import GaussianNB"
   ]
  },
  {
   "cell_type": "code",
   "execution_count": 4,
   "metadata": {
    "id": "uZZRhimQ5UEr"
   },
   "outputs": [],
   "source": [
    "# Geração do modelo\n",
    "naive = GaussianNB()"
   ]
  },
  {
   "cell_type": "markdown",
   "metadata": {
    "id": "jebC8M2jqyc9"
   },
   "source": [
    "### **REGRESSÃO LOGÍSTICA**"
   ]
  },
  {
   "cell_type": "markdown",
   "metadata": {
    "id": "mprvbtyNbzP3"
   },
   "source": [
    "https://scikit-learn.org/stable/modules/generated/sklearn.linear_model.LogisticRegression.html"
   ]
  },
  {
   "cell_type": "code",
   "execution_count": 5,
   "metadata": {
    "id": "NVGe2Q7ur-Nv"
   },
   "outputs": [],
   "source": [
    "from sklearn.linear_model import LogisticRegression"
   ]
  },
  {
   "cell_type": "code",
   "execution_count": 6,
   "metadata": {
    "id": "f_RnL43VV9Yc"
   },
   "outputs": [],
   "source": [
    "# Geração do modelo\n",
    "logistica = LogisticRegression()"
   ]
  },
  {
   "cell_type": "markdown",
   "metadata": {
    "id": "GETCbQj7v32B"
   },
   "source": [
    "### **APRENDIZAGEM BASEADA EM INSTÂNCIAS (KNN)**"
   ]
  },
  {
   "cell_type": "markdown",
   "metadata": {
    "id": "AXOVpUsGbnlK"
   },
   "source": [
    "https://scikit-learn.org/stable/modules/generated/sklearn.neighbors.KNeighborsClassifier.html"
   ]
  },
  {
   "cell_type": "code",
   "execution_count": 7,
   "metadata": {
    "id": "u3_VSVAFwo8H"
   },
   "outputs": [],
   "source": [
    "from sklearn.neighbors import KNeighborsClassifier"
   ]
  },
  {
   "cell_type": "code",
   "execution_count": 8,
   "metadata": {
    "id": "xkC1VdFmXvcz"
   },
   "outputs": [],
   "source": [
    "# Geração do modelo\n",
    "knn = KNeighborsClassifier(n_neighbors=7, metric='minkowski', p=1)"
   ]
  },
  {
   "cell_type": "markdown",
   "metadata": {
    "id": "VdGvKcYjODGt"
   },
   "source": [
    "### **ÁRVORE DE DECISÃO**"
   ]
  },
  {
   "cell_type": "markdown",
   "metadata": {
    "id": "i65VtZ4pcQGP"
   },
   "source": [
    "https://scikit-learn.org/stable/modules/tree.html"
   ]
  },
  {
   "cell_type": "code",
   "execution_count": 9,
   "metadata": {
    "id": "-2oaMph5OFa2"
   },
   "outputs": [],
   "source": [
    "from sklearn.tree import DecisionTreeClassifier"
   ]
  },
  {
   "cell_type": "code",
   "execution_count": 10,
   "metadata": {
    "id": "Zxu4_zhCOMVj"
   },
   "outputs": [],
   "source": [
    "arvore = DecisionTreeClassifier()"
   ]
  },
  {
   "cell_type": "markdown",
   "metadata": {
    "id": "hw7px-UemoSc"
   },
   "source": [
    "### **RANDOM FOREST**"
   ]
  },
  {
   "cell_type": "markdown",
   "metadata": {
    "id": "HAUbw5xfcCYy"
   },
   "source": [
    "https://scikit-learn.org/stable/modules/generated/sklearn.ensemble.RandomForestClassifier.html"
   ]
  },
  {
   "cell_type": "code",
   "execution_count": 11,
   "metadata": {
    "id": "BqqXdinImokj"
   },
   "outputs": [],
   "source": [
    "from sklearn.ensemble import RandomForestClassifier"
   ]
  },
  {
   "cell_type": "code",
   "execution_count": 12,
   "metadata": {
    "id": "Klr3lymumztn"
   },
   "outputs": [],
   "source": [
    "random = RandomForestClassifier()"
   ]
  },
  {
   "cell_type": "markdown",
   "metadata": {
    "id": "49GRRZooGyEv"
   },
   "source": [
    "### **GRADIENT BOOSTING**"
   ]
  },
  {
   "cell_type": "markdown",
   "metadata": {
    "id": "2PPVpDpBGyEw"
   },
   "source": [
    "https://scikit-learn.org/stable/modules/generated/sklearn.ensemble.GradientBoostingClassifier.html"
   ]
  },
  {
   "cell_type": "code",
   "execution_count": 13,
   "metadata": {
    "id": "Qt6lHsbSGvA1"
   },
   "outputs": [],
   "source": [
    "from sklearn.ensemble import GradientBoostingClassifier"
   ]
  },
  {
   "cell_type": "code",
   "execution_count": 14,
   "metadata": {
    "id": "iY63KMMGHQnq"
   },
   "outputs": [],
   "source": [
    "# Geração do modelo\n",
    "gbm = GradientBoostingClassifier()"
   ]
  },
  {
   "cell_type": "markdown",
   "metadata": {
    "id": "jH3OocboSGXH"
   },
   "source": [
    "### **XGBOOST**"
   ]
  },
  {
   "cell_type": "markdown",
   "metadata": {
    "id": "OpLLJlcnbcsR"
   },
   "source": [
    "https://xgboost.readthedocs.io/en/stable/"
   ]
  },
  {
   "cell_type": "code",
   "execution_count": 15,
   "metadata": {
    "id": "PKdcu1J2Qk0h"
   },
   "outputs": [],
   "source": [
    "from xgboost import XGBClassifier"
   ]
  },
  {
   "cell_type": "code",
   "execution_count": 16,
   "metadata": {
    "id": "jyOMVARbQmLa"
   },
   "outputs": [],
   "source": [
    "xg = XGBClassifier()"
   ]
  },
  {
   "cell_type": "markdown",
   "metadata": {
    "id": "6rvu4WmECxfQ"
   },
   "source": [
    "### **LIGHT GBM**"
   ]
  },
  {
   "cell_type": "markdown",
   "metadata": {
    "id": "CK1WcKc2CxfR"
   },
   "source": [
    "https://lightgbm.readthedocs.io/en/latest/pythonapi/lightgbm.LGBMRegressor.html "
   ]
  },
  {
   "cell_type": "code",
   "execution_count": 17,
   "metadata": {
    "colab": {
     "base_uri": "https://localhost:8080/"
    },
    "id": "h_yv-yAbCxfS",
    "outputId": "138c92ec-e9f2-43b3-cf1f-a5b0e7719954"
   },
   "outputs": [
    {
     "name": "stdout",
     "output_type": "stream",
     "text": [
      "Requirement already satisfied: lightgbm in ./venv/lib/python3.8/site-packages (3.3.3)\n",
      "Requirement already satisfied: numpy in ./venv/lib/python3.8/site-packages (from lightgbm) (1.23.5)\n",
      "Requirement already satisfied: wheel in ./venv/lib/python3.8/site-packages (from lightgbm) (0.38.4)\n",
      "Requirement already satisfied: scipy in ./venv/lib/python3.8/site-packages (from lightgbm) (1.9.3)\n",
      "Requirement already satisfied: scikit-learn!=0.22.0 in ./venv/lib/python3.8/site-packages (from lightgbm) (1.1.3)\n",
      "Requirement already satisfied: threadpoolctl>=2.0.0 in ./venv/lib/python3.8/site-packages (from scikit-learn!=0.22.0->lightgbm) (3.1.0)\n",
      "Requirement already satisfied: joblib>=1.0.0 in ./venv/lib/python3.8/site-packages (from scikit-learn!=0.22.0->lightgbm) (1.2.0)\n",
      "\u001b[33mWARNING: You are using pip version 20.1.1; however, version 22.3.1 is available.\n",
      "You should consider upgrading via the '/home/leandric/Documentos/Projetos/Otimização-de-Hiperparametros/venv/bin/python -m pip install --upgrade pip' command.\u001b[0m\n"
     ]
    }
   ],
   "source": [
    "# Instalação do Algoritmo\n",
    "!pip install lightgbm"
   ]
  },
  {
   "cell_type": "code",
   "execution_count": 18,
   "metadata": {
    "id": "XcxJN6feCxfT"
   },
   "outputs": [],
   "source": [
    "import lightgbm as lgb"
   ]
  },
  {
   "cell_type": "code",
   "execution_count": 19,
   "metadata": {
    "id": "llgmdRCRCxfU"
   },
   "outputs": [],
   "source": [
    "lgbm = lgb.LGBMClassifier()"
   ]
  },
  {
   "cell_type": "markdown",
   "metadata": {
    "id": "yKpYGEuWUChU"
   },
   "source": [
    "### **CATBOOST**"
   ]
  },
  {
   "cell_type": "markdown",
   "metadata": {
    "id": "LMqQ_NMTUChV"
   },
   "source": [
    "https://catboost.ai/en/docs/"
   ]
  },
  {
   "cell_type": "code",
   "execution_count": 20,
   "metadata": {
    "colab": {
     "base_uri": "https://localhost:8080/"
    },
    "id": "Vkt7hfJVUChV",
    "outputId": "17139cde-7246-4c86-8fa5-a694c8ffe6e6",
    "scrolled": true
   },
   "outputs": [
    {
     "name": "stdout",
     "output_type": "stream",
     "text": [
      "Requirement already satisfied: catboost in ./venv/lib/python3.8/site-packages (1.1.1)\n",
      "Requirement already satisfied: matplotlib in ./venv/lib/python3.8/site-packages (from catboost) (3.6.2)\n",
      "Requirement already satisfied: graphviz in ./venv/lib/python3.8/site-packages (from catboost) (0.20.1)\n",
      "Requirement already satisfied: plotly in ./venv/lib/python3.8/site-packages (from catboost) (5.11.0)\n",
      "Requirement already satisfied: pandas>=0.24.0 in ./venv/lib/python3.8/site-packages (from catboost) (1.5.2)\n",
      "Requirement already satisfied: six in ./venv/lib/python3.8/site-packages (from catboost) (1.16.0)\n",
      "Requirement already satisfied: scipy in ./venv/lib/python3.8/site-packages (from catboost) (1.9.3)\n",
      "Requirement already satisfied: numpy>=1.16.0 in ./venv/lib/python3.8/site-packages (from catboost) (1.23.5)\n",
      "Requirement already satisfied: pyparsing>=2.2.1 in ./venv/lib/python3.8/site-packages (from matplotlib->catboost) (3.0.9)\n",
      "Requirement already satisfied: fonttools>=4.22.0 in ./venv/lib/python3.8/site-packages (from matplotlib->catboost) (4.38.0)\n",
      "Requirement already satisfied: python-dateutil>=2.7 in ./venv/lib/python3.8/site-packages (from matplotlib->catboost) (2.8.2)\n",
      "Requirement already satisfied: pillow>=6.2.0 in ./venv/lib/python3.8/site-packages (from matplotlib->catboost) (9.3.0)\n",
      "Requirement already satisfied: contourpy>=1.0.1 in ./venv/lib/python3.8/site-packages (from matplotlib->catboost) (1.0.6)\n",
      "Requirement already satisfied: packaging>=20.0 in ./venv/lib/python3.8/site-packages (from matplotlib->catboost) (21.3)\n",
      "Requirement already satisfied: cycler>=0.10 in ./venv/lib/python3.8/site-packages (from matplotlib->catboost) (0.11.0)\n",
      "Requirement already satisfied: kiwisolver>=1.0.1 in ./venv/lib/python3.8/site-packages (from matplotlib->catboost) (1.4.4)\n",
      "Requirement already satisfied: tenacity>=6.2.0 in ./venv/lib/python3.8/site-packages (from plotly->catboost) (8.1.0)\n",
      "Requirement already satisfied: pytz>=2020.1 in ./venv/lib/python3.8/site-packages (from pandas>=0.24.0->catboost) (2022.6)\n",
      "\u001b[33mWARNING: You are using pip version 20.1.1; however, version 22.3.1 is available.\n",
      "You should consider upgrading via the '/home/leandric/Documentos/Projetos/Otimização-de-Hiperparametros/venv/bin/python -m pip install --upgrade pip' command.\u001b[0m\n"
     ]
    }
   ],
   "source": [
    "#Instalação\n",
    "!pip install catboost"
   ]
  },
  {
   "cell_type": "code",
   "execution_count": 21,
   "metadata": {
    "id": "kisDuh-RUChW"
   },
   "outputs": [],
   "source": [
    "from catboost import CatBoostClassifier"
   ]
  },
  {
   "cell_type": "code",
   "execution_count": 22,
   "metadata": {
    "id": "mO1YOQAy_YH6"
   },
   "outputs": [],
   "source": [
    "catboost = CatBoostClassifier()"
   ]
  },
  {
   "cell_type": "markdown",
   "metadata": {
    "id": "uxb_pJ1s_lD6"
   },
   "source": [
    "## **ALGORITMOS DE REGRESSÃO**"
   ]
  },
  {
   "cell_type": "markdown",
   "metadata": {
    "id": "S3Hp7kQK9KaY"
   },
   "source": [
    "### **REGRESSÃO LINEAR SIMPLES E MÚLTIPLA**"
   ]
  },
  {
   "cell_type": "markdown",
   "metadata": {
    "id": "x7ruW5bkQhrR"
   },
   "source": [
    "https://scikit-learn.org/stable/modules/generated/sklearn.linear_model.LinearRegression.html "
   ]
  },
  {
   "cell_type": "code",
   "execution_count": 23,
   "metadata": {
    "id": "vEBGIvlQa41o"
   },
   "outputs": [],
   "source": [
    "from sklearn.linear_model import LinearRegression"
   ]
  },
  {
   "cell_type": "code",
   "execution_count": 24,
   "metadata": {
    "id": "A-iqvnKk2bnf"
   },
   "outputs": [],
   "source": [
    "reg_linear = LinearRegression()"
   ]
  },
  {
   "cell_type": "markdown",
   "metadata": {
    "id": "WX2KnLCzsq7u"
   },
   "source": [
    "### **VETORES DE SUPORTE (SVR)**"
   ]
  },
  {
   "cell_type": "markdown",
   "metadata": {
    "id": "X5x2joIiP457"
   },
   "source": [
    "https://scikit-learn.org/stable/modules/generated/sklearn.svm.SVR.html "
   ]
  },
  {
   "cell_type": "code",
   "execution_count": 25,
   "metadata": {
    "id": "QhBhU44WBMYI"
   },
   "outputs": [],
   "source": [
    "from sklearn.svm import SVR"
   ]
  },
  {
   "cell_type": "code",
   "execution_count": 26,
   "metadata": {
    "id": "5Y2PwxsXBPCj"
   },
   "outputs": [],
   "source": [
    "svr = SVR()"
   ]
  },
  {
   "cell_type": "markdown",
   "metadata": {
    "id": "N3OZHJFl2npi"
   },
   "source": [
    "### **ÁRVORE DE DECISÃO**"
   ]
  },
  {
   "cell_type": "markdown",
   "metadata": {
    "id": "0tAem7qwPVhF"
   },
   "source": [
    "https://scikit-learn.org/stable/modules/tree.html#regression "
   ]
  },
  {
   "cell_type": "code",
   "execution_count": 27,
   "metadata": {
    "id": "FCi7X0gMBfkj"
   },
   "outputs": [],
   "source": [
    "from sklearn.tree import DecisionTreeRegressor"
   ]
  },
  {
   "cell_type": "code",
   "execution_count": 28,
   "metadata": {
    "id": "I1fUprryBfry"
   },
   "outputs": [],
   "source": [
    "arvore = DecisionTreeRegressor()"
   ]
  },
  {
   "cell_type": "markdown",
   "metadata": {
    "id": "em7docfu_mvB"
   },
   "source": [
    "### **RANDOM FOREST**"
   ]
  },
  {
   "cell_type": "markdown",
   "metadata": {
    "id": "XxohwrvT_xVI"
   },
   "source": [
    "https://scikit-learn.org/stable/modules/generated/sklearn.ensemble.RandomForestRegressor.html "
   ]
  },
  {
   "cell_type": "code",
   "execution_count": 29,
   "metadata": {
    "id": "jq-8R7XpB9f3"
   },
   "outputs": [],
   "source": [
    "from sklearn.ensemble import RandomForestRegressor"
   ]
  },
  {
   "cell_type": "code",
   "execution_count": 30,
   "metadata": {
    "id": "6dN6ggkVBHH4"
   },
   "outputs": [],
   "source": [
    "random = RandomForestRegressor()"
   ]
  },
  {
   "cell_type": "markdown",
   "metadata": {
    "id": "35aLRjY1Hl_C"
   },
   "source": [
    "### **GRADIENT BOOSTING**"
   ]
  },
  {
   "cell_type": "markdown",
   "metadata": {
    "id": "X4PFAhy4Hl_D"
   },
   "source": [
    "https://scikit-learn.org/stable/modules/generated/sklearn.ensemble.GradientBoostingRegressor.html"
   ]
  },
  {
   "cell_type": "code",
   "execution_count": 31,
   "metadata": {
    "id": "LlaeSmbkHl_E"
   },
   "outputs": [],
   "source": [
    "from sklearn.ensemble import GradientBoostingRegressor"
   ]
  },
  {
   "cell_type": "code",
   "execution_count": 32,
   "metadata": {
    "id": "WUlwQt66Hl_F"
   },
   "outputs": [],
   "source": [
    "# Geração do modelo\n",
    "gbm = GradientBoostingRegressor()"
   ]
  },
  {
   "cell_type": "markdown",
   "metadata": {
    "id": "texm7_wzD3ZN"
   },
   "source": [
    "### **REGRESSÃO COM XGBOOST**"
   ]
  },
  {
   "cell_type": "markdown",
   "metadata": {
    "id": "9bFhbBKgEnmc"
   },
   "source": [
    "https://xgboost.readthedocs.io/en/latest/python/python_api.html#xgboost.XGBRegressor "
   ]
  },
  {
   "cell_type": "code",
   "execution_count": 33,
   "metadata": {
    "id": "gXsNjojnEoyA"
   },
   "outputs": [],
   "source": [
    "from xgboost import XGBRegressor"
   ]
  },
  {
   "cell_type": "code",
   "execution_count": 34,
   "metadata": {
    "id": "ggIQN7N9LZ3v"
   },
   "outputs": [],
   "source": [
    "xgboost = XGBRegressor()"
   ]
  },
  {
   "cell_type": "markdown",
   "metadata": {
    "id": "5Ml9LC8_P_Us"
   },
   "source": [
    "### **REGRESSÃO COM LIGHT GBM**"
   ]
  },
  {
   "cell_type": "markdown",
   "metadata": {
    "id": "sLqV3RvmQHiI"
   },
   "source": [
    "https://lightgbm.readthedocs.io/en/latest/pythonapi/lightgbm.LGBMRegressor.html "
   ]
  },
  {
   "cell_type": "code",
   "execution_count": 35,
   "metadata": {
    "colab": {
     "base_uri": "https://localhost:8080/"
    },
    "id": "hqvRU7h6Q9oc",
    "outputId": "40c20b68-4c35-4e8b-e212-da0286b686bd"
   },
   "outputs": [
    {
     "name": "stdout",
     "output_type": "stream",
     "text": [
      "Requirement already satisfied: lightgbm in ./venv/lib/python3.8/site-packages (3.3.3)\n",
      "Requirement already satisfied: scikit-learn!=0.22.0 in ./venv/lib/python3.8/site-packages (from lightgbm) (1.1.3)\n",
      "Requirement already satisfied: scipy in ./venv/lib/python3.8/site-packages (from lightgbm) (1.9.3)\n",
      "Requirement already satisfied: numpy in ./venv/lib/python3.8/site-packages (from lightgbm) (1.23.5)\n",
      "Requirement already satisfied: wheel in ./venv/lib/python3.8/site-packages (from lightgbm) (0.38.4)\n",
      "Requirement already satisfied: threadpoolctl>=2.0.0 in ./venv/lib/python3.8/site-packages (from scikit-learn!=0.22.0->lightgbm) (3.1.0)\n",
      "Requirement already satisfied: joblib>=1.0.0 in ./venv/lib/python3.8/site-packages (from scikit-learn!=0.22.0->lightgbm) (1.2.0)\n",
      "\u001b[33mWARNING: You are using pip version 20.1.1; however, version 22.3.1 is available.\n",
      "You should consider upgrading via the '/home/leandric/Documentos/Projetos/Otimização-de-Hiperparametros/venv/bin/python -m pip install --upgrade pip' command.\u001b[0m\n"
     ]
    }
   ],
   "source": [
    "# Instalação do Algoritmo\n",
    "!pip install lightgbm"
   ]
  },
  {
   "cell_type": "code",
   "execution_count": 36,
   "metadata": {
    "id": "q4V61kANQgB5"
   },
   "outputs": [],
   "source": [
    "import lightgbm as lgb"
   ]
  },
  {
   "cell_type": "code",
   "execution_count": 37,
   "metadata": {
    "id": "Sk8UBLYrQgB6"
   },
   "outputs": [],
   "source": [
    "lgbm = lgb.LGBMRegressor()"
   ]
  },
  {
   "cell_type": "markdown",
   "metadata": {
    "id": "gZsVtfKfQgCC"
   },
   "source": [
    "### **REGRESSÃO COM CATBOOST**"
   ]
  },
  {
   "cell_type": "markdown",
   "metadata": {
    "id": "5GPeGeg-VXsz"
   },
   "source": [
    "https://catboost.ai/en/docs/concepts/python-reference_catboostregressor "
   ]
  },
  {
   "cell_type": "code",
   "execution_count": 38,
   "metadata": {
    "colab": {
     "base_uri": "https://localhost:8080/"
    },
    "id": "NuLKDgUGVXs0",
    "outputId": "3ecede9f-18cc-40c8-d414-498a76666f55"
   },
   "outputs": [
    {
     "name": "stdout",
     "output_type": "stream",
     "text": [
      "Requirement already satisfied: catboost in ./venv/lib/python3.8/site-packages (1.1.1)\n",
      "Requirement already satisfied: graphviz in ./venv/lib/python3.8/site-packages (from catboost) (0.20.1)\n",
      "Requirement already satisfied: six in ./venv/lib/python3.8/site-packages (from catboost) (1.16.0)\n",
      "Requirement already satisfied: scipy in ./venv/lib/python3.8/site-packages (from catboost) (1.9.3)\n",
      "Requirement already satisfied: matplotlib in ./venv/lib/python3.8/site-packages (from catboost) (3.6.2)\n",
      "Requirement already satisfied: plotly in ./venv/lib/python3.8/site-packages (from catboost) (5.11.0)\n",
      "Requirement already satisfied: numpy>=1.16.0 in ./venv/lib/python3.8/site-packages (from catboost) (1.23.5)\n",
      "Requirement already satisfied: pandas>=0.24.0 in ./venv/lib/python3.8/site-packages (from catboost) (1.5.2)\n",
      "Requirement already satisfied: cycler>=0.10 in ./venv/lib/python3.8/site-packages (from matplotlib->catboost) (0.11.0)\n",
      "Requirement already satisfied: contourpy>=1.0.1 in ./venv/lib/python3.8/site-packages (from matplotlib->catboost) (1.0.6)\n",
      "Requirement already satisfied: pyparsing>=2.2.1 in ./venv/lib/python3.8/site-packages (from matplotlib->catboost) (3.0.9)\n",
      "Requirement already satisfied: pillow>=6.2.0 in ./venv/lib/python3.8/site-packages (from matplotlib->catboost) (9.3.0)\n",
      "Requirement already satisfied: kiwisolver>=1.0.1 in ./venv/lib/python3.8/site-packages (from matplotlib->catboost) (1.4.4)\n",
      "Requirement already satisfied: fonttools>=4.22.0 in ./venv/lib/python3.8/site-packages (from matplotlib->catboost) (4.38.0)\n",
      "Requirement already satisfied: packaging>=20.0 in ./venv/lib/python3.8/site-packages (from matplotlib->catboost) (21.3)\n",
      "Requirement already satisfied: python-dateutil>=2.7 in ./venv/lib/python3.8/site-packages (from matplotlib->catboost) (2.8.2)\n",
      "Requirement already satisfied: tenacity>=6.2.0 in ./venv/lib/python3.8/site-packages (from plotly->catboost) (8.1.0)\n",
      "Requirement already satisfied: pytz>=2020.1 in ./venv/lib/python3.8/site-packages (from pandas>=0.24.0->catboost) (2022.6)\n",
      "\u001b[33mWARNING: You are using pip version 20.1.1; however, version 22.3.1 is available.\n",
      "You should consider upgrading via the '/home/leandric/Documentos/Projetos/Otimização-de-Hiperparametros/venv/bin/python -m pip install --upgrade pip' command.\u001b[0m\n"
     ]
    }
   ],
   "source": [
    "#Instalação\n",
    "!pip install catboost"
   ]
  },
  {
   "cell_type": "code",
   "execution_count": 39,
   "metadata": {
    "id": "Mvq49H8TVXs5"
   },
   "outputs": [],
   "source": [
    "from catboost.core import CatBoostRegressor"
   ]
  },
  {
   "cell_type": "code",
   "execution_count": 40,
   "metadata": {
    "id": "ElgRHg_3VXs6"
   },
   "outputs": [],
   "source": [
    "catboost = CatBoostRegressor ()"
   ]
  },
  {
   "cell_type": "markdown",
   "metadata": {
    "id": "K4Xj0I4pDYMF"
   },
   "source": [
    "## **REDES NEURAIS ARTIFICIAIS**"
   ]
  },
  {
   "cell_type": "markdown",
   "metadata": {
    "id": "G6PR1R9sJjII"
   },
   "source": [
    "https://scikit-learn.org/stable/modules/generated/sklearn.neural_network.MLPRegressor.html"
   ]
  },
  {
   "cell_type": "code",
   "execution_count": 41,
   "metadata": {
    "id": "euAEbYkXDdkN"
   },
   "outputs": [],
   "source": [
    "from sklearn.neural_network import MLPRegressor"
   ]
  },
  {
   "cell_type": "code",
   "execution_count": 42,
   "metadata": {
    "id": "W1yKr1nNDpns"
   },
   "outputs": [],
   "source": [
    "redes = MLPRegressor()"
   ]
  },
  {
   "cell_type": "markdown",
   "metadata": {
    "id": "o4BonWE7JcmU"
   },
   "source": [
    "https://scikit-learn.org/stable/modules/generated/sklearn.neural_network.MLPClassifier.html"
   ]
  },
  {
   "cell_type": "code",
   "execution_count": 43,
   "metadata": {
    "id": "MrqLHRnRD3X1"
   },
   "outputs": [],
   "source": [
    "from sklearn.neural_network import MLPClassifier"
   ]
  },
  {
   "cell_type": "code",
   "execution_count": 44,
   "metadata": {
    "id": "aVyFRAGyD86l"
   },
   "outputs": [],
   "source": [
    "redes = MLPClassifier()"
   ]
  }
 ],
 "metadata": {
  "colab": {
   "provenance": []
  },
  "kernelspec": {
   "display_name": "Python 3 (ipykernel)",
   "language": "python",
   "name": "python3"
  },
  "language_info": {
   "codemirror_mode": {
    "name": "ipython",
    "version": 3
   },
   "file_extension": ".py",
   "mimetype": "text/x-python",
   "name": "python",
   "nbconvert_exporter": "python",
   "pygments_lexer": "ipython3",
   "version": "3.8.5"
  }
 },
 "nbformat": 4,
 "nbformat_minor": 1
}
