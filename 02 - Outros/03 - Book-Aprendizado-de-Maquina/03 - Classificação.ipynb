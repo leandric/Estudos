{
 "cells": [
  {
   "cell_type": "markdown",
   "id": "37694eb2",
   "metadata": {},
   "source": [
    "# Mãos à Obra: Aprendizado de Máquina com Scikit-Learn, Keras & TensorFlow\n",
    "## Aurélien Géron\n",
    "\n",
    "Capítulo 3 - Classificação"
   ]
  },
  {
   "cell_type": "markdown",
   "id": "b818cb88",
   "metadata": {},
   "source": [
    "# MNIST\n",
    "\n",
    "<p>O conjunto de dados MNIST é composto por cerca de 70 mil imagens pequenas de algorismos escritos à mão por estudantes do ensino médio e funcionários do US Census Bureau.</p>\n",
    "<p>A scikit-Learn fornece muitas funções auxiliares para fazer o download de conjuntos de dados populares. O MNIST é um deles.</p>\n"
   ]
  },
  {
   "cell_type": "code",
   "execution_count": 1,
   "id": "3e63ae65",
   "metadata": {},
   "outputs": [],
   "source": [
    "from sklearn.datasets import fetch_openml"
   ]
  },
  {
   "cell_type": "code",
   "execution_count": 2,
   "id": "2e72ca44",
   "metadata": {},
   "outputs": [
    {
     "name": "stderr",
     "output_type": "stream",
     "text": [
      "C:\\Users\\legia\\.conda\\envs\\Estudos\\lib\\site-packages\\sklearn\\datasets\\_openml.py:932: FutureWarning: The default value of `parser` will change from `'liac-arff'` to `'auto'` in 1.4. You can set `parser='auto'` to silence this warning. Therefore, an `ImportError` will be raised from 1.4 if the dataset is dense and pandas is not installed. Note that the pandas parser may return different data types. See the Notes Section in fetch_openml's API doc for details.\n",
      "  warn(\n"
     ]
    }
   ],
   "source": [
    "mnist = fetch_openml('mnist_784', version=1)"
   ]
  },
  {
   "cell_type": "code",
   "execution_count": 3,
   "id": "1786770a",
   "metadata": {},
   "outputs": [
    {
     "data": {
      "text/plain": [
       "dict_keys(['data', 'target', 'frame', 'categories', 'feature_names', 'target_names', 'DESCR', 'details', 'url'])"
      ]
     },
     "execution_count": 3,
     "metadata": {},
     "output_type": "execute_result"
    }
   ],
   "source": [
    "mnist.keys()"
   ]
  },
  {
   "cell_type": "code",
   "execution_count": 4,
   "id": "4500e677",
   "metadata": {},
   "outputs": [],
   "source": [
    "X, y = mnist['data'], mnist['target']"
   ]
  },
  {
   "cell_type": "code",
   "execution_count": 5,
   "id": "c39453b2",
   "metadata": {},
   "outputs": [],
   "source": [
    "import matplotlib as mpl\n",
    "import matplotlib.pyplot as plt"
   ]
  },
  {
   "cell_type": "code",
   "execution_count": 6,
   "id": "d1be2003",
   "metadata": {},
   "outputs": [],
   "source": [
    "some_digit = X.iloc[360].values\n",
    "some_digit_image = some_digit.reshape(28,28)"
   ]
  },
  {
   "cell_type": "code",
   "execution_count": 7,
   "id": "14a5555f",
   "metadata": {},
   "outputs": [
    {
     "data": {
      "image/png": "[encoded data removed]",
      "text/plain": [
       "<Figure size 640x480 with 1 Axes>"
      ]
     },
     "metadata": {},
     "output_type": "display_data"
    }
   ],
   "source": [
    "plt.imshow(some_digit_image, cmap='binary')\n",
    "plt.axis('off')\n",
    "plt.title(y[360])\n",
    "plt.show()"
   ]
  },
  {
   "cell_type": "code",
   "execution_count": 27,
   "id": "fb6350e6",
   "metadata": {},
   "outputs": [],
   "source": [
    "# Alterando o tipo\n",
    "import numpy as np\n",
    "y = y.astype(np.uint8)"
   ]
  },
  {
   "cell_type": "markdown",
   "id": "dddb3fa3",
   "metadata": {},
   "source": [
    "<p>Sem devemos criar um conjunto de teste e separa-lo antes de inspecionar os dados com mais atenção. O conjunto de dados MNIST, na verdade, já está dividido em um conjunto de treinamento (as primeiras 60 mil imagens) e em um conjunto de teste (as ultimas 10 mil imagens)</p>\n",
    "<p>O conjunto de treinamento já está embaralhado, o que é bom, pois isso assegura que todos os folds de validação cruzada serão semelhantes.</p>"
   ]
  },
  {
   "cell_type": "code",
   "execution_count": 28,
   "id": "835deebb",
   "metadata": {},
   "outputs": [],
   "source": [
    "X_train, X_test, y_train, y_test = X[:6000], X[6000:], y[:6000], y[6000:]"
   ]
  },
  {
   "cell_type": "markdown",
   "id": "eec195f3",
   "metadata": {},
   "source": [
    "## Treinando um Classificador Binário\n",
    "\n",
    "<p>Vamos criar uma clssificador capaz de intificar um 5 e um não 5</p>"
   ]
  },
  {
   "cell_type": "code",
   "execution_count": 29,
   "id": "df7603f1",
   "metadata": {},
   "outputs": [],
   "source": [
    "y_train_5 = (y_train == 5)\n",
    "y_test_5 = (y_test == 5)"
   ]
  },
  {
   "cell_type": "markdown",
   "id": "e27a9b2a",
   "metadata": {},
   "source": [
    "<p>Um bom ponto de partida é um classificador gradiente descedente estocastico (SGD), usando a classe  <i>SGDClassifier</i> da Scikit-Learn. A vantagem desse classificador é conseguir lidar eficientemente com conjunto de dados muito grandes. Isso ocorre em parte porque o SGD lida com instancias de treinamento de forma independente, uma de cada vez.</p>"
   ]
  },
  {
   "cell_type": "code",
   "execution_count": 30,
   "id": "d5f46a0d",
   "metadata": {},
   "outputs": [],
   "source": [
    "from sklearn.linear_model import SGDClassifier"
   ]
  },
  {
   "cell_type": "code",
   "execution_count": 31,
   "id": "1e47e24b",
   "metadata": {},
   "outputs": [],
   "source": [
    "sgd_clf = SGDClassifier( random_state=42)"
   ]
  },
  {
   "cell_type": "code",
   "execution_count": 32,
   "id": "9bb90d8d",
   "metadata": {
    "scrolled": true
   },
   "outputs": [
    {
     "data": {
      "text/html": [
       "<style>#sk-container-id-1 {color: black;background-color: white;}#sk-container-id-1 pre{padding: 0;}#sk-container-id-1 div.sk-toggleable {background-color: white;}#sk-container-id-1 label.sk-toggleable__label {cursor: pointer;display: block;width: 100%;margin-bottom: 0;padding: 0.3em;box-sizing: border-box;text-align: center;}#sk-container-id-1 label.sk-toggleable__label-arrow:before {content: \"▸\";float: left;margin-right: 0.25em;color: #696969;}#sk-container-id-1 label.sk-toggleable__label-arrow:hover:before {color: black;}#sk-container-id-1 div.sk-estimator:hover label.sk-toggleable__label-arrow:before {color: black;}#sk-container-id-1 div.sk-toggleable__content {max-height: 0;max-width: 0;overflow: hidden;text-align: left;background-color: #f0f8ff;}#sk-container-id-1 div.sk-toggleable__content pre {margin: 0.2em;color: black;border-radius: 0.25em;background-color: #f0f8ff;}#sk-container-id-1 input.sk-toggleable__control:checked~div.sk-toggleable__content {max-height: 200px;max-width: 100%;overflow: auto;}#sk-container-id-1 input.sk-toggleable__control:checked~label.sk-toggleable__label-arrow:before {content: \"▾\";}#sk-container-id-1 div.sk-estimator input.sk-toggleable__control:checked~label.sk-toggleable__label {background-color: #d4ebff;}#sk-container-id-1 div.sk-label input.sk-toggleable__control:checked~label.sk-toggleable__label {background-color: #d4ebff;}#sk-container-id-1 input.sk-hidden--visually {border: 0;clip: rect(1px 1px 1px 1px);clip: rect(1px, 1px, 1px, 1px);height: 1px;margin: -1px;overflow: hidden;padding: 0;position: absolute;width: 1px;}#sk-container-id-1 div.sk-estimator {font-family: monospace;background-color: #f0f8ff;border: 1px dotted black;border-radius: 0.25em;box-sizing: border-box;margin-bottom: 0.5em;}#sk-container-id-1 div.sk-estimator:hover {background-color: #d4ebff;}#sk-container-id-1 div.sk-parallel-item::after {content: \"\";width: 100%;border-bottom: 1px solid gray;flex-grow: 1;}#sk-container-id-1 div.sk-label:hover label.sk-toggleable__label {background-color: #d4ebff;}#sk-container-id-1 div.sk-serial::before {content: \"\";position: absolute;border-left: 1px solid gray;box-sizing: border-box;top: 0;bottom: 0;left: 50%;z-index: 0;}#sk-container-id-1 div.sk-serial {display: flex;flex-direction: column;align-items: center;background-color: white;padding-right: 0.2em;padding-left: 0.2em;position: relative;}#sk-container-id-1 div.sk-item {position: relative;z-index: 1;}#sk-container-id-1 div.sk-parallel {display: flex;align-items: stretch;justify-content: center;background-color: white;position: relative;}#sk-container-id-1 div.sk-item::before, #sk-container-id-1 div.sk-parallel-item::before {content: \"\";position: absolute;border-left: 1px solid gray;box-sizing: border-box;top: 0;bottom: 0;left: 50%;z-index: -1;}#sk-container-id-1 div.sk-parallel-item {display: flex;flex-direction: column;z-index: 1;position: relative;background-color: white;}#sk-container-id-1 div.sk-parallel-item:first-child::after {align-self: flex-end;width: 50%;}#sk-container-id-1 div.sk-parallel-item:last-child::after {align-self: flex-start;width: 50%;}#sk-container-id-1 div.sk-parallel-item:only-child::after {width: 0;}#sk-container-id-1 div.sk-dashed-wrapped {border: 1px dashed gray;margin: 0 0.4em 0.5em 0.4em;box-sizing: border-box;padding-bottom: 0.4em;background-color: white;}#sk-container-id-1 div.sk-label label {font-family: monospace;font-weight: bold;display: inline-block;line-height: 1.2em;}#sk-container-id-1 div.sk-label-container {text-align: center;}#sk-container-id-1 div.sk-container {/* jupyter's `normalize.less` sets `[hidden] { display: none; }` but bootstrap.min.css set `[hidden] { display: none !important; }` so we also need the `!important` here to be able to override the default hidden behavior on the sphinx rendered scikit-learn.org. See: https://github.com/scikit-learn/scikit-learn/issues/21755 */display: inline-block !important;position: relative;}#sk-container-id-1 div.sk-text-repr-fallback {display: none;}</style><div id=\"sk-container-id-1\" class=\"sk-top-container\"><div class=\"sk-text-repr-fallback\"><pre>SGDClassifier(random_state=42)</pre><b>In a Jupyter environment, please rerun this cell to show the HTML representation or trust the notebook. <br />On GitHub, the HTML representation is unable to render, please try loading this page with nbviewer.org.</b></div><div class=\"sk-container\" hidden><div class=\"sk-item\"><div class=\"sk-estimator sk-toggleable\"><input class=\"sk-toggleable__control sk-hidden--visually\" id=\"sk-estimator-id-1\" type=\"checkbox\" checked><label for=\"sk-estimator-id-1\" class=\"sk-toggleable__label sk-toggleable__label-arrow\">SGDClassifier</label><div class=\"sk-toggleable__content\"><pre>SGDClassifier(random_state=42)</pre></div></div></div></div></div>"
      ],
      "text/plain": [
       "SGDClassifier(random_state=42)"
      ]
     },
     "execution_count": 32,
     "metadata": {},
     "output_type": "execute_result"
    }
   ],
   "source": [
    "sgd_clf.fit(X_train,y_train_5)"
   ]
  },
  {
   "cell_type": "markdown",
   "id": "dfef4582",
   "metadata": {},
   "source": [
    "<p>Agora podemos usá-lo para identificar imagens do número 5</p>"
   ]
  },
  {
   "cell_type": "code",
   "execution_count": 36,
   "id": "f9d2e12f",
   "metadata": {},
   "outputs": [
    {
     "name": "stderr",
     "output_type": "stream",
     "text": [
      "C:\\Users\\legia\\.conda\\envs\\Estudos\\lib\\site-packages\\sklearn\\base.py:409: UserWarning: X does not have valid feature names, but SGDClassifier was fitted with feature names\n",
      "  warnings.warn(\n",
      "C:\\Users\\legia\\.conda\\envs\\Estudos\\lib\\site-packages\\matplotlib\\text.py:1241: FutureWarning: elementwise comparison failed; returning scalar instead, but in the future will perform elementwise comparison\n",
      "  if s != self._text:\n"
     ]
    },
    {
     "data": {
      "image/png": "[encoded data removed]",
      "text/plain": [
       "<Figure size 640x480 with 1 Axes>"
      ]
     },
     "metadata": {},
     "output_type": "display_data"
    }
   ],
   "source": [
    "some_digit = X.iloc[0].values\n",
    "some_digit_image = some_digit.reshape(28,28)\n",
    "\n",
    "plt.imshow(some_digit_image, cmap='binary')\n",
    "plt.axis('off')\n",
    "plt.title(sgd_clf.predict([some_digit]))\n",
    "plt.show()"
   ]
  },
  {
   "cell_type": "markdown",
   "id": "10c7fbf0",
   "metadata": {},
   "source": [
    "## Cálculo de desempenho\n",
    "<p>Normalmente avaliar um classificador é bem mais complicado do que avaliar um regressor, existe muitos cálculos e medidas de desempenho disponíveis</p>"
   ]
  },
  {
   "cell_type": "markdown",
   "id": "dc13844e",
   "metadata": {},
   "source": [
    "### Calculando a acurácia com a validação cruzada\n",
    "<p>O código a seguir faz a mesma coisa que a função <i><b>cross_val_score()</b></i> da Scikit-Learn e exibe o mesmo resultado</p>"
   ]
  },
  {
   "cell_type": "markdown",
   "id": "064a7c32",
   "metadata": {},
   "source": [
    "<p><b><i>A cada iteração, o código cria um clone do classificador, treina esse clone nos folds de treinamento e faz predições nos folds de teste. Em seguida, contabiliza o número de predições corretas e gera a proporção de predições corretas.</p></b></i>"
   ]
  },
  {
   "cell_type": "code",
   "execution_count": 74,
   "id": "e4dd548c",
   "metadata": {
    "scrolled": true
   },
   "outputs": [
    {
     "name": "stdout",
     "output_type": "stream",
     "text": [
      "0.962\n",
      "0.956\n",
      "0.9665\n",
      "Média: 0.9615\n"
     ]
    }
   ],
   "source": [
    "from sklearn.model_selection import StratifiedKFold\n",
    "from sklearn.base import clone\n",
    "\n",
    "skfolds = StratifiedKFold(n_splits=3)\n",
    "result_cross = []\n",
    "for train_index, test_index in skfolds.split(X_train, y_train_5):\n",
    "    clone_clf = clone(sgd_clf)\n",
    "    X_train_folds = X_train.loc[train_index]\n",
    "    y_train_folds = y_train_5.loc[train_index]\n",
    "    X_test_fold = X_train.loc[test_index] \n",
    "    y_test_fold = y_train_5.loc[test_index]\n",
    "    \n",
    "    clone_clf.fit(X_train_folds, y_train_folds)\n",
    "    y_pred = clone_clf.predict(X_test_fold) \n",
    "    n_correct = sum(y_pred == y_test_fold)\n",
    "    result_cross.append(n_correct / len(y_pred))\n",
    "    \n",
    "result_cross = cross_val_score(sgd_clf, X_train, y_train_5, cv=3)\n",
    "for r in result_cross:\n",
    "    print(r)\n",
    "print('Média:',result_cross.mean())"
   ]
  },
  {
   "cell_type": "markdown",
   "id": "eb38573d",
   "metadata": {},
   "source": [
    "<p><b>Usaremos a função cross_val_score() para avaliar o modelo SGDClassifier com o método k-fold de validação cruzada em três partes. Lembre-se de que método k-fold de validação cruzada significa dividir o conjunto de treinamento em k-folds (neste caso, três) e, depois, prever e avaliar as predições em cada conjunto utilizando um modelo treinado nos folds restantes"
   ]
  },
  {
   "cell_type": "code",
   "execution_count": 80,
   "id": "13f763a9",
   "metadata": {},
   "outputs": [
    {
     "name": "stdout",
     "output_type": "stream",
     "text": [
      "0.962\n",
      "0.956\n",
      "0.9665\n",
      "Média: 0.9615\n"
     ]
    }
   ],
   "source": [
    "from sklearn.model_selection import cross_val_score\n",
    "result_cross = cross_val_score(sgd_clf, X_train, y_train_5, cv=3, scoring='accuracy' )\n",
    "for r in result_cross:\n",
    "    print(r)\n",
    "print('Média:',result_cross.mean())"
   ]
  },
  {
   "cell_type": "markdown",
   "id": "8a500b3b",
   "metadata": {},
   "source": [
    "vejamos um classificador deixa a desejar e somente classifica todas as imagens na classe \"não-5\":"
   ]
  },
  {
   "cell_type": "code",
   "execution_count": 86,
   "id": "cecb31fe",
   "metadata": {},
   "outputs": [],
   "source": [
    "from sklearn.base import BaseEstimator\n",
    "\n",
    "class Never5Classifier(BaseEstimator):\n",
    "    def fit(self, X, y=None):\n",
    "        pass\n",
    "    \n",
    "    def predict(self, X):\n",
    "        return np.zeros((len(X), 1), dtype=bool)"
   ]
  },
  {
   "cell_type": "code",
   "execution_count": 89,
   "id": "8c70a738",
   "metadata": {},
   "outputs": [
    {
     "data": {
      "text/plain": [
       "array([0.91 , 0.915, 0.918])"
      ]
     },
     "execution_count": 89,
     "metadata": {},
     "output_type": "execute_result"
    }
   ],
   "source": [
    "#Estimando a acurácia do modelo\n",
    "never_5_clf = Never5Classifier()\n",
    "cross_val_score(never_5_clf, X_train, y_train_5, cv=3, scoring='accuracy')"
   ]
  },
  {
   "cell_type": "markdown",
   "id": "d8724a3d",
   "metadata": {},
   "source": [
    "<p><b>Mais de 90% de acurácia! Isso acontece simplesmente porque apenas cerca de 10% das imagens são \"5\", assim sendo, caso sempre estime que uma imagem não é um 5, terá razão em cerca de 90% das vezes. Você seria melhor que Nostradamus.\n",
    "\n",
    "Isso demonstra por que a acurácia geralmente não é a medida de desempenho preferida para os classificadores, sobretudo quando você está manipulando conjuntos de dados assimétricos (ou seja, quando algumas classes são muito mais frequentes que outras)."
   ]
  },
  {
   "cell_type": "markdown",
   "id": "5d91989a",
   "metadata": {},
   "source": [
    "# Matriz de Confusão\n",
    "\n",
    "<p>Uma forma bem melhor de avaliar o desempenho de um classificador é analisar a matriz de confusão. A ideia geral é contabilizar o número de vezes que as instâncias da classe A são classificadas como classe B. Por exemplo, para saber o número de vezes que o classificador confundiu imagens de 5s com 3s, você verificaria na quinta linha e na terceira coluna da matriz de confusão."
   ]
  },
  {
   "cell_type": "code",
   "execution_count": 92,
   "id": "7d08bb4d",
   "metadata": {},
   "outputs": [],
   "source": [
    "from sklearn.model_selection import cross_val_predict\n",
    "\n",
    "y_train_pred = cross_val_predict(sgd_clf, X_train, y_train_5, cv=3)"
   ]
  },
  {
   "cell_type": "code",
   "execution_count": 93,
   "id": "e82cd389",
   "metadata": {},
   "outputs": [
    {
     "data": {
      "text/plain": [
       "array([False, False, False, ..., False, False, False])"
      ]
     },
     "execution_count": 93,
     "metadata": {},
     "output_type": "execute_result"
    }
   ],
   "source": [
    "y_train_pred"
   ]
  },
  {
   "cell_type": "code",
   "execution_count": 94,
   "id": "b4059a6f",
   "metadata": {},
   "outputs": [
    {
     "data": {
      "text/plain": [
       "array([[5375,  111],\n",
       "       [ 120,  394]], dtype=int64)"
      ]
     },
     "execution_count": 94,
     "metadata": {},
     "output_type": "execute_result"
    }
   ],
   "source": [
    "from sklearn.metrics import confusion_matrix\n",
    "confusion_matrix(y_train_5, y_train_pred)"
   ]
  },
  {
   "cell_type": "markdown",
   "id": "01f538f8",
   "metadata": {},
   "source": [
    "<p>Cada linha em uma matriz de confusão representa uma classe real, ao passo que cada coluna representa uma classe prevista. A primeira linha desta matriz considera imagens não-5 (a classe negativa): 5375 delas foram classificadas corretamente como não-5 (elas se chamam verdadeiros negativos), enquanto as 120 restantes foram erroneamente classificadas como 5s (falsos positivos). A segunda linha consi- dera as imagens dos 5s (a classe positiva): 111 foram classificadas erroneamente como não-5s (falsos negativos), ao passo que as 394 restantes foram classificadas perfeitamente como 5s (verdadeiros po- sitivos)."
   ]
  },
  {
   "cell_type": "code",
   "execution_count": null,
   "id": "0ad6a8c3",
   "metadata": {},
   "outputs": [],
   "source": []
  }
 ],
 "metadata": {
  "kernelspec": {
   "display_name": "Python 3 (ipykernel)",
   "language": "python",
   "name": "python3"
  },
  "language_info": {
   "codemirror_mode": {
    "name": "ipython",
    "version": 3
   },
   "file_extension": ".py",
   "mimetype": "text/x-python",
   "name": "python",
   "nbconvert_exporter": "python",
   "pygments_lexer": "ipython3",
   "version": "3.8.15"
  }
 },
 "nbformat": 4,
 "nbformat_minor": 5
}
