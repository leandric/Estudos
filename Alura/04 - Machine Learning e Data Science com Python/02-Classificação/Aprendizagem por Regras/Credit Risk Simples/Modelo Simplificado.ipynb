{
 "cells": [
  {
   "cell_type": "markdown",
   "id": "fdeedc1c",
   "metadata": {},
   "source": [
    "# Importação de Bibliotecas"
   ]
  },
  {
   "cell_type": "code",
   "execution_count": 1,
   "id": "66079946",
   "metadata": {},
   "outputs": [],
   "source": [
    "#Instala as bibliotecas\n",
    "'''\n",
    "!pip install Orange3\n",
    "''';"
   ]
  },
  {
   "cell_type": "code",
   "execution_count": 2,
   "id": "a9fe9bfc",
   "metadata": {},
   "outputs": [],
   "source": [
    "#importando bibliotecas\n",
    "import Orange"
   ]
  },
  {
   "cell_type": "markdown",
   "id": "21480929",
   "metadata": {},
   "source": [
    "# Carga de Dados"
   ]
  },
  {
   "cell_type": "code",
   "execution_count": 3,
   "id": "7c1a90d7",
   "metadata": {},
   "outputs": [],
   "source": [
    "orange_table = Orange.data.Table('base/risco_credito_regras.csv')"
   ]
  },
  {
   "cell_type": "code",
   "execution_count": 4,
   "id": "56731850",
   "metadata": {},
   "outputs": [
    {
     "data": {
      "text/plain": [
       "[[ruim, alta, nenhuma, 0_15 | alto],\n",
       " [desconhecida, alta, nenhuma, 15_35 | alto],\n",
       " [desconhecida, baixa, nenhuma, 15_35 | moderado],\n",
       " [desconhecida, baixa, nenhuma, acima_35 | alto],\n",
       " [desconhecida, baixa, nenhuma, acima_35 | baixo],\n",
       " ...\n",
       "]"
      ]
     },
     "execution_count": 4,
     "metadata": {},
     "output_type": "execute_result"
    }
   ],
   "source": [
    "orange_table"
   ]
  },
  {
   "cell_type": "markdown",
   "id": "14f1e05a",
   "metadata": {},
   "source": [
    "# Treinando Modelo"
   ]
  },
  {
   "cell_type": "code",
   "execution_count": 5,
   "id": "400ee333",
   "metadata": {},
   "outputs": [],
   "source": [
    "cn2 = Orange.classification.rules.CN2Learner()\n",
    "regras = cn2(orange_table)"
   ]
  },
  {
   "cell_type": "code",
   "execution_count": 6,
   "id": "13804457",
   "metadata": {},
   "outputs": [
    {
     "name": "stdout",
     "output_type": "stream",
     "text": [
      "IF renda==0_15 THEN risco=alto \n",
      "IF historia==boa AND divida!=alta THEN risco=baixo \n",
      "IF historia==boa AND garantias!=nenhuma THEN risco=baixo \n",
      "IF historia==boa AND renda!=15_35 THEN risco=baixo \n",
      "IF historia==boa THEN risco=moderado \n",
      "IF divida==alta THEN risco=alto \n",
      "IF historia!=desconhecida THEN risco=moderado \n",
      "IF garantias==adequada THEN risco=baixo \n",
      "IF renda==15_35 THEN risco=moderado \n",
      "IF historia==desconhecida THEN risco=alto \n",
      "IF TRUE THEN risco=alto \n"
     ]
    }
   ],
   "source": [
    "#Resultado da Aprendizagem do algoritmo\n",
    "for regra in regras.rule_list:\n",
    "    print(regra)"
   ]
  },
  {
   "cell_type": "code",
   "execution_count": 8,
   "id": "0267758f",
   "metadata": {},
   "outputs": [],
   "source": [
    "previsoes = regras([['boa','alta','nenhuma', 'acima_35'], ['ruim','alta','adequada', '0_15']])"
   ]
  },
  {
   "cell_type": "code",
   "execution_count": 12,
   "id": "70017c3e",
   "metadata": {},
   "outputs": [
    {
     "name": "stdout",
     "output_type": "stream",
     "text": [
      "('alto', 'baixo', 'moderado')\n"
     ]
    },
    {
     "data": {
      "text/plain": [
       "array([1, 0])"
      ]
     },
     "execution_count": 12,
     "metadata": {},
     "output_type": "execute_result"
    }
   ],
   "source": [
    "print(regras.domain.class_var.values)\n",
    "previsoes"
   ]
  },
  {
   "cell_type": "code",
   "execution_count": null,
   "id": "8e4e0542",
   "metadata": {},
   "outputs": [],
   "source": []
  }
 ],
 "metadata": {
  "kernelspec": {
   "display_name": "Python 3 (ipykernel)",
   "language": "python",
   "name": "python3"
  },
  "language_info": {
   "codemirror_mode": {
    "name": "ipython",
    "version": 3
   },
   "file_extension": ".py",
   "mimetype": "text/x-python",
   "name": "python",
   "nbconvert_exporter": "python",
   "pygments_lexer": "ipython3",
   "version": "3.8.12"
  }
 },
 "nbformat": 4,
 "nbformat_minor": 5
}
