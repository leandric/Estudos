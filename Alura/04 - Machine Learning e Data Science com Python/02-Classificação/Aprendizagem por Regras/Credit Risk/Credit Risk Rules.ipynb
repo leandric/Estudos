{
 "cells": [
  {
   "cell_type": "markdown",
   "id": "f13303f7",
   "metadata": {},
   "source": [
    "# Importação de Bibliotecas"
   ]
  },
  {
   "cell_type": "code",
   "execution_count": 2,
   "id": "764cde63",
   "metadata": {},
   "outputs": [
    {
     "ename": "ModuleNotFoundError",
     "evalue": "No module named 'Orange'",
     "output_type": "error",
     "traceback": [
      "\u001b[0;31m---------------------------------------------------------------------------\u001b[0m",
      "\u001b[0;31mModuleNotFoundError\u001b[0m                       Traceback (most recent call last)",
      "Input \u001b[0;32mIn [2]\u001b[0m, in \u001b[0;36m<module>\u001b[0;34m\u001b[0m\n\u001b[1;32m      1\u001b[0m \u001b[38;5;66;03m#importando bibliotecas\u001b[39;00m\n\u001b[0;32m----> 2\u001b[0m \u001b[38;5;28;01mimport\u001b[39;00m \u001b[38;5;21;01mOrange\u001b[39;00m\n",
      "\u001b[0;31mModuleNotFoundError\u001b[0m: No module named 'Orange'"
     ]
    }
   ],
   "source": [
    "#importando bibliotecas\n",
    "import Orange"
   ]
  },
  {
   "cell_type": "markdown",
   "id": "1e2f0075",
   "metadata": {},
   "source": [
    "# Carga de Dados"
   ]
  },
  {
   "cell_type": "code",
   "execution_count": null,
   "id": "fae1b465",
   "metadata": {},
   "outputs": [],
   "source": [
    "orange_table = Orange.data.Table('base/credit_data_regras.csv')"
   ]
  },
  {
   "cell_type": "code",
   "execution_count": null,
   "id": "11e2b7d7",
   "metadata": {},
   "outputs": [],
   "source": [
    "orange_table.domain"
   ]
  },
  {
   "cell_type": "code",
   "execution_count": null,
   "id": "29cf6140",
   "metadata": {},
   "outputs": [],
   "source": [
    "#Dividindo a base para teste e treinamento\n",
    "base_dividida = Orange.evaluation.testing.sample(orange_table, n = 0.25)\n",
    "train = base_dividida[1]\n",
    "test = base_dividida[0]"
   ]
  },
  {
   "cell_type": "code",
   "execution_count": null,
   "id": "c2bf99c1",
   "metadata": {},
   "outputs": [],
   "source": [
    "len(train), len(test)"
   ]
  },
  {
   "cell_type": "markdown",
   "id": "644c5fca",
   "metadata": {},
   "source": [
    "# Treinando Modelo"
   ]
  },
  {
   "cell_type": "code",
   "execution_count": null,
   "id": "6e16457d",
   "metadata": {},
   "outputs": [],
   "source": [
    "cn2 = Orange.classification.rules.CN2Learner()\n",
    "regras = cn2(train)"
   ]
  },
  {
   "cell_type": "code",
   "execution_count": null,
   "id": "5becf226",
   "metadata": {},
   "outputs": [],
   "source": [
    "#Regras para base train\n",
    "for regra in regras.rule_list:\n",
    "    print(regra)"
   ]
  },
  {
   "cell_type": "code",
   "execution_count": null,
   "id": "f26a475c",
   "metadata": {},
   "outputs": [],
   "source": [
    "previsoes = Orange.evaluation.testing.TestOnTestData(train, test,[lambda testdata: regras])"
   ]
  },
  {
   "cell_type": "markdown",
   "id": "eb71b512",
   "metadata": {},
   "source": [
    "# Acurácia"
   ]
  },
  {
   "cell_type": "code",
   "execution_count": null,
   "id": "44f0e964",
   "metadata": {},
   "outputs": [],
   "source": [
    "Orange.evaluation.CA(previsoes)"
   ]
  }
 ],
 "metadata": {
  "kernelspec": {
   "display_name": "Python 3 (ipykernel)",
   "language": "python",
   "name": "python3"
  },
  "language_info": {
   "codemirror_mode": {
    "name": "ipython",
    "version": 3
   },
   "file_extension": ".py",
   "mimetype": "text/x-python",
   "name": "python",
   "nbconvert_exporter": "python",
   "pygments_lexer": "ipython3",
   "version": "3.9.7"
  }
 },
 "nbformat": 4,
 "nbformat_minor": 5
}
