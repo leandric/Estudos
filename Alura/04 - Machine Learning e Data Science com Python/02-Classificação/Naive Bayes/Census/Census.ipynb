{
 "cells": [
  {
   "cell_type": "markdown",
   "id": "702ec164",
   "metadata": {},
   "source": [
    "# Importação de Bibliotecas"
   ]
  },
  {
   "cell_type": "code",
   "execution_count": 1,
   "id": "9348a63c",
   "metadata": {},
   "outputs": [],
   "source": [
    "#importando bibliotecas\n",
    "import pickle\n",
    "from sklearn.naive_bayes import GaussianNB\n",
    "from sklearn.metrics import accuracy_score, confusion_matrix, classification_report\n",
    "import seaborn as sns\n",
    "import numpy as np\n",
    "import matplotlib.pyplot as plt"
   ]
  },
  {
   "cell_type": "markdown",
   "id": "d520ca70",
   "metadata": {},
   "source": [
    "# Carga de Dados"
   ]
  },
  {
   "cell_type": "code",
   "execution_count": 2,
   "id": "26e33af4",
   "metadata": {},
   "outputs": [],
   "source": [
    "#Carregando as variaveis tratadas no pré processamento\n",
    "with open('../../../01-Análise Exploratória/Pré-Processamento/Census/base/census.pkl', 'rb') as f:\n",
    "    x_train, x_test, y_train, y_test = pickle.load(f)"
   ]
  },
  {
   "cell_type": "code",
   "execution_count": 3,
   "id": "16797dea",
   "metadata": {},
   "outputs": [
    {
     "data": {
      "text/plain": [
       "GaussianNB()"
      ]
     },
     "execution_count": 3,
     "metadata": {},
     "output_type": "execute_result"
    }
   ],
   "source": [
    "#Treinando o modelo\n",
    "census_data = GaussianNB()\n",
    "census_data.fit(x_train, y_train)"
   ]
  },
  {
   "cell_type": "code",
   "execution_count": 4,
   "id": "ec19b68a",
   "metadata": {},
   "outputs": [],
   "source": [
    "#Gerando previsões para a classe x_test\n",
    "previsoes = census_data.predict(x_test)"
   ]
  },
  {
   "cell_type": "code",
   "execution_count": 5,
   "id": "14b26f38",
   "metadata": {},
   "outputs": [
    {
     "data": {
      "text/plain": [
       "0.4807308460003071"
      ]
     },
     "execution_count": 5,
     "metadata": {},
     "output_type": "execute_result"
    }
   ],
   "source": [
    "#Acurácia do modelo\n",
    "accuracy_score(y_test, previsoes) # sem o Escalonamento o resultado pode melhorar..."
   ]
  },
  {
   "cell_type": "code",
   "execution_count": 6,
   "id": "c25ed119",
   "metadata": {},
   "outputs": [
    {
     "name": "stdout",
     "output_type": "stream",
     "text": [
      "              precision    recall  f1-score   support\n",
      "\n",
      "       <=50K       0.97      0.32      0.48      4918\n",
      "        >50K       0.32      0.97      0.48      1595\n",
      "\n",
      "    accuracy                           0.48      6513\n",
      "   macro avg       0.64      0.65      0.48      6513\n",
      "weighted avg       0.81      0.48      0.48      6513\n",
      "\n"
     ]
    },
    {
     "data": {
      "image/png": "[encoded data removed]",
      "text/plain": [
       "<Figure size 720x504 with 2 Axes>"
      ]
     },
     "metadata": {
      "needs_background": "light"
     },
     "output_type": "display_data"
    }
   ],
   "source": [
    "#Resultado da Classificação\n",
    "print(classification_report(y_test, previsoes))\n",
    "cf_matrix = confusion_matrix(y_test, previsoes)\n",
    "\n",
    "plt.figure(figsize = (10,7))\n",
    "\n",
    "group_names = ['<=50K','Falso <=50K','Falso >50K','>50K']\n",
    "group_counts = ['{0:0.0f}'.format(value) for value in\n",
    "                cf_matrix.flatten()]\n",
    "group_percentages = ['{0:.2%}'.format(value) for value in\n",
    "                     cf_matrix.flatten()/np.sum(cf_matrix)]\n",
    "labels = [f'{v1}\\n{v2}\\n{v3}' for v1, v2, v3 in\n",
    "          zip(group_names,group_counts,group_percentages)]\n",
    "labels = np.asarray(labels).reshape(2,2)\n",
    "\n",
    "sns_plot = sns.heatmap(cf_matrix, annot=labels, fmt='', cmap='Blues')\n",
    "plt.savefig('img/confusion_matrix.png', dpi=300)"
   ]
  }
 ],
 "metadata": {
  "kernelspec": {
   "display_name": "Python 3 (ipykernel)",
   "language": "python",
   "name": "python3"
  },
  "language_info": {
   "codemirror_mode": {
    "name": "ipython",
    "version": 3
   },
   "file_extension": ".py",
   "mimetype": "text/x-python",
   "name": "python",
   "nbconvert_exporter": "python",
   "pygments_lexer": "ipython3",
   "version": "3.9.7"
  }
 },
 "nbformat": 4,
 "nbformat_minor": 5
}
