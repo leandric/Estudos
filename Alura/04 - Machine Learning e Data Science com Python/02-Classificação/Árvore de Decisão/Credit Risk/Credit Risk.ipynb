{
 "cells": [
  {
   "cell_type": "markdown",
   "id": "12c7edd7",
   "metadata": {},
   "source": [
    "# Importação de Bibliotecas"
   ]
  },
  {
   "cell_type": "code",
   "execution_count": 1,
   "id": "154e1535",
   "metadata": {},
   "outputs": [],
   "source": [
    "#Instala as bibliotecas\n",
    "'''\n",
    "!pip install sklearn\n",
    "!pip install seaborn\n",
    "!pip install numpy\n",
    "!pip install matplotlib\n",
    "''';"
   ]
  },
  {
   "cell_type": "code",
   "execution_count": 2,
   "id": "a7fefe4d",
   "metadata": {},
   "outputs": [],
   "source": [
    "#importando bibliotecas\n",
    "import pickle\n",
    "from sklearn.tree import DecisionTreeClassifier\n",
    "from sklearn.metrics import accuracy_score, confusion_matrix, classification_report\n",
    "from sklearn import tree\n",
    "import seaborn as sns\n",
    "import matplotlib.pyplot as plt\n",
    "import numpy as np"
   ]
  },
  {
   "cell_type": "markdown",
   "id": "828a7549",
   "metadata": {},
   "source": [
    "# Carga de Dados"
   ]
  },
  {
   "cell_type": "code",
   "execution_count": 3,
   "id": "353ed325",
   "metadata": {},
   "outputs": [],
   "source": [
    "#Carregando as variaveis tratadas no pré processamento\n",
    "with open('../../../01-Análise Exploratória/Pré-Processamento/Credit Risk/base/credit.pkl', 'rb') as f:\n",
    "    x_train, x_test, y_train, y_test = pickle.load(f)"
   ]
  },
  {
   "cell_type": "markdown",
   "id": "66582838",
   "metadata": {},
   "source": [
    "# Treina Árvore de Decisão"
   ]
  },
  {
   "cell_type": "code",
   "execution_count": 4,
   "id": "3db64639",
   "metadata": {},
   "outputs": [
    {
     "data": {
      "text/plain": [
       "DecisionTreeClassifier(criterion='entropy', random_state=0)"
      ]
     },
     "execution_count": 4,
     "metadata": {},
     "output_type": "execute_result"
    }
   ],
   "source": [
    "#Treinando o modelo\n",
    "tree_decision = DecisionTreeClassifier(criterion='entropy', random_state= 0)\n",
    "tree_decision.fit(x_train, y_train)"
   ]
  },
  {
   "cell_type": "code",
   "execution_count": 5,
   "id": "29d5148f",
   "metadata": {},
   "outputs": [
    {
     "data": {
      "text/plain": [
       "array([0.22310382, 0.46908662, 0.30780957])"
      ]
     },
     "execution_count": 5,
     "metadata": {},
     "output_type": "execute_result"
    }
   ],
   "source": [
    "#Atributos com maior relevancia --> renda, valor-empréstimo e idade respectivamente\n",
    "tree_decision.feature_importances_"
   ]
  },
  {
   "cell_type": "code",
   "execution_count": 6,
   "id": "a87732ae",
   "metadata": {},
   "outputs": [],
   "source": [
    "#Grafico da Arvore de Decisão\n",
    "'''\n",
    "previsores = ['idade', 'renda', 'emprestimo_mnt']\n",
    "\n",
    "figure, axes = plt.subplots(nrows=1,ncols=1, figsize=(10,10))\n",
    "tree.plot_tree(tree_decision, feature_names=previsores, class_names = ['Paga', 'Não Paga'],filled=True);\n",
    "''';"
   ]
  },
  {
   "cell_type": "code",
   "execution_count": 7,
   "id": "2ecce162",
   "metadata": {},
   "outputs": [],
   "source": [
    "# Previsões da x_test\n",
    "previsoes = tree_decision.predict(x_test)"
   ]
  },
  {
   "cell_type": "code",
   "execution_count": 8,
   "id": "6816d53d",
   "metadata": {},
   "outputs": [
    {
     "data": {
      "text/plain": [
       "0.8158661961025011"
      ]
     },
     "execution_count": 8,
     "metadata": {},
     "output_type": "execute_result"
    }
   ],
   "source": [
    "#Acurácia do modelo\n",
    "accuracy_score(y_test, previsoes)"
   ]
  },
  {
   "cell_type": "code",
   "execution_count": 9,
   "id": "cd8f79cf",
   "metadata": {},
   "outputs": [
    {
     "name": "stdout",
     "output_type": "stream",
     "text": [
      "              precision    recall  f1-score   support\n",
      "\n",
      "         0.0       0.88      0.88      0.88      5179\n",
      "         1.0       0.55      0.55      0.55      1338\n",
      "\n",
      "    accuracy                           0.82      6517\n",
      "   macro avg       0.72      0.72      0.72      6517\n",
      "weighted avg       0.82      0.82      0.82      6517\n",
      "\n"
     ]
    },
    {
     "data": {
      "image/png": "[encoded data removed]",
      "text/plain": [
       "<Figure size 720x504 with 2 Axes>"
      ]
     },
     "metadata": {
      "needs_background": "light"
     },
     "output_type": "display_data"
    }
   ],
   "source": [
    "#Resultado da Classificação\n",
    "\n",
    "\n",
    "\n",
    "print(classification_report(y_test, previsoes))\n",
    "cf_matrix = confusion_matrix(y_test, previsoes)\n",
    "\n",
    "plt.figure(figsize = (10,7))\n",
    "\n",
    "group_names = ['(Verdadeiro) Pagam','(Falso) Não Pagadores','(Falso) Pagadores','(Verdadeiro) Não pagadores']\n",
    "group_counts = ['{0:0.0f}'.format(value) for value in\n",
    "                cf_matrix.flatten()]\n",
    "group_percentages = ['{0:.2%}'.format(value) for value in\n",
    "                     cf_matrix.flatten()/np.sum(cf_matrix)]\n",
    "labels = [f'{v1}\\n{v2}\\n{v3}' for v1, v2, v3 in\n",
    "          zip(group_names,group_counts,group_percentages)]\n",
    "labels = np.asarray(labels).reshape(2,2)\n",
    "\n",
    "sns_plot = sns.heatmap(cf_matrix, annot=labels, fmt='', cmap='Blues')\n",
    "plt.savefig('img/confusion_matrix.png', dpi=300)"
   ]
  }
 ],
 "metadata": {
  "kernelspec": {
   "display_name": "Python 3 (ipykernel)",
   "language": "python",
   "name": "python3"
  },
  "language_info": {
   "codemirror_mode": {
    "name": "ipython",
    "version": 3
   },
   "file_extension": ".py",
   "mimetype": "text/x-python",
   "name": "python",
   "nbconvert_exporter": "python",
   "pygments_lexer": "ipython3",
   "version": "3.8.12"
  }
 },
 "nbformat": 4,
 "nbformat_minor": 5
}
